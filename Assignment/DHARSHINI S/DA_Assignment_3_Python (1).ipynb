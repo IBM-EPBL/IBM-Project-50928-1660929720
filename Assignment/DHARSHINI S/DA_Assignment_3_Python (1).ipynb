{
  "metadata": {
    "colab": {
      "provenance": []
    },
    "kernelspec": {
      "name": "python",
      "display_name": "Python (Pyodide)",
      "language": "python"
    },
    "language_info": {
      "codemirror_mode": {
        "name": "python",
        "version": 3
      },
      "file_extension": ".py",
      "mimetype": "text/x-python",
      "name": "python",
      "nbconvert_exporter": "python",
      "pygments_lexer": "ipython3",
      "version": "3.8"
    }
  },
  "nbformat_minor": 4,
  "nbformat": 4,
  "cells": [
    {
      "cell_type": "markdown",
      "source": "## Exercises\n\nAnswer the questions or complete the tasks outlined in bold below, use the specific method described if applicable.",
      "metadata": {
        "id": "fwU2iooz85jt"
      }
    },
    {
      "cell_type": "markdown",
      "source": "** What is 7 to the power of 4?**",
      "metadata": {
        "id": "SzBQQ_ml85j1"
      }
    },
    {
      "cell_type": "code",
      "source": "print(7**4)",
      "metadata": {
        "id": "UhvE4PBC85j3",
        "outputId": "a05565aa-db43-4716-e87d-41c5c8a6f95e",
        "trusted": true
      },
      "execution_count": 1,
      "outputs": [
        {
          "name": "stdout",
          "text": "2401\n",
          "output_type": "stream"
        }
      ]
    },
    {
      "cell_type": "code",
      "source": "** Split this string:**\n\n    s = \"Hi there Sam!\"\n    \n**into a list. **",
      "metadata": {
        "id": "ds8G9S8j85j6"
      },
      "execution_count": null,
      "outputs": []
    },
    {
      "cell_type": "code",
      "source": "s=\"Hi there Sam!\"\nprint(s.split())",
      "metadata": {
        "id": "GD_Tls3H85j7",
        "trusted": true
      },
      "execution_count": 2,
      "outputs": [
        {
          "name": "stdout",
          "text": "['Hi', 'there', 'Sam!']\n",
          "output_type": "stream"
        }
      ]
    },
    {
      "cell_type": "code",
      "source": "",
      "metadata": {
        "id": "RRGOKoai85j8",
        "outputId": "cc52f0d8-2ed1-4b4d-e956-5bbeb332cdc2",
        "jupyter": {
          "source_hidden": true,
          "outputs_hidden": true
        },
        "collapsed": true
      },
      "execution_count": null,
      "outputs": [
        {
          "execution_count": 3,
          "output_type": "execute_result",
          "data": {
            "text/plain": [
              "['Hi', 'there', 'dad!']"
            ]
          },
          "metadata": {
            "tags": []
          }
        }
      ]
    },
    {
      "cell_type": "markdown",
      "source": "** Given the variables:**\n\n    planet = \"Earth\"\n    diameter = 12742\n\n** Use .format() to print the following string: **\n\n    The diameter of Earth is 12742 kilometers.",
      "metadata": {
        "id": "_bBNOu-785j9"
      }
    },
    {
      "cell_type": "code",
      "source": "planet=\"Earth\"\ndiameter=12742\nprint(\"The daimeter of {} is {} Kilometers.\".format(planet,diameter))",
      "metadata": {
        "id": "2TrzmDcS85j-",
        "trusted": true
      },
      "execution_count": 3,
      "outputs": [
        {
          "name": "stdout",
          "text": "The daimeter of Earth is 12742 Kilometers.\n",
          "output_type": "stream"
        }
      ]
    },
    {
      "cell_type": "code",
      "source": "",
      "metadata": {
        "id": "s_dQ7_xc85j_",
        "outputId": "4235fdfb-5591-4dd9-f9d2-77f311977633",
        "jupyter": {
          "source_hidden": true,
          "outputs_hidden": true
        },
        "collapsed": true
      },
      "execution_count": null,
      "outputs": [
        {
          "name": "stdout",
          "output_type": "stream",
          "text": "The diameter of Earth is 12742 kilometers.\n"
        }
      ]
    },
    {
      "cell_type": "markdown",
      "source": "** Given this nested list, use indexing to grab the word \"hello\" **",
      "metadata": {
        "id": "QAKtN7Hh85kB"
      }
    },
    {
      "cell_type": "code",
      "source": "lst = [1,2,[3,4],[5,[100,200,['hello']],23,11],1,7]\n",
      "metadata": {
        "id": "-7dzQDyK85kD",
        "collapsed": true,
        "jupyter": {
          "outputs_hidden": true
        },
        "trusted": true
      },
      "execution_count": 5,
      "outputs": [
        {
          "ename": "<class 'TypeError'>",
          "evalue": "'int' object is not subscriptable",
          "traceback": [
            "\u001b[0;31m---------------------------------------------------------------------------\u001b[0m",
            "\u001b[0;31mTypeError\u001b[0m                                 Traceback (most recent call last)",
            "Cell \u001b[0;32mIn [5], line 2\u001b[0m\n\u001b[1;32m      1\u001b[0m lst \u001b[38;5;241m=\u001b[39m [\u001b[38;5;241m1\u001b[39m,\u001b[38;5;241m2\u001b[39m,[\u001b[38;5;241m3\u001b[39m,\u001b[38;5;241m4\u001b[39m],[\u001b[38;5;241m5\u001b[39m,[\u001b[38;5;241m100\u001b[39m,\u001b[38;5;241m200\u001b[39m,[\u001b[38;5;124m'\u001b[39m\u001b[38;5;124mhello\u001b[39m\u001b[38;5;124m'\u001b[39m]],\u001b[38;5;241m23\u001b[39m,\u001b[38;5;241m11\u001b[39m],\u001b[38;5;241m1\u001b[39m,\u001b[38;5;241m7\u001b[39m]\n\u001b[0;32m----> 2\u001b[0m \u001b[38;5;28mprint\u001b[39m(lst[\u001b[38;5;241m3\u001b[39m][\u001b[38;5;241m2\u001b[39m][\u001b[38;5;241m1\u001b[39m])\n",
            "\u001b[0;31mTypeError\u001b[0m: 'int' object is not subscriptable"
          ],
          "output_type": "error"
        }
      ]
    },
    {
      "cell_type": "code",
      "source": "print(lst[3][1][2])",
      "metadata": {
        "trusted": true
      },
      "execution_count": 6,
      "outputs": [
        {
          "name": "stdout",
          "text": "['hello']\n",
          "output_type": "stream"
        }
      ]
    },
    {
      "cell_type": "markdown",
      "source": "** Given this nest dictionary grab the word \"hello\". Be prepared, this will be annoying/tricky **",
      "metadata": {
        "id": "9Ma7M4a185kF"
      }
    },
    {
      "cell_type": "code",
      "source": "d = {'k1':[1,2,3,{'tricky':['oh','man','inception',{'target':[1,2,3,'hello']}]}]}\nprint(d[\"k1\"][3][\"tricky\"][3][\"target\"][3])",
      "metadata": {
        "id": "vrYAxSYN85kG",
        "trusted": true
      },
      "execution_count": 26,
      "outputs": [
        {
          "name": "stdout",
          "text": "hello\n",
          "output_type": "stream"
        }
      ]
    },
    {
      "cell_type": "markdown",
      "source": "** What is the main difference between a tuple and a list? **",
      "metadata": {
        "id": "FInV_FKB85kI"
      }
    },
    {
      "cell_type": "code",
      "source": "print(\"Tuple is immutable and list is mutable\")",
      "metadata": {
        "id": "_VBWf00q85kJ",
        "trusted": true
      },
      "execution_count": 12,
      "outputs": [
        {
          "name": "stdout",
          "text": "Tuple is immutable and list is mutable\n",
          "output_type": "stream"
        }
      ]
    },
    {
      "cell_type": "markdown",
      "source": "** Create a function that grabs the email website domain from a string in the form: **\n\n    user@domain.com\n    \n**So for example, passing \"user@domain.com\" would return: domain.com**",
      "metadata": {
        "id": "zP-j0HZj85kK"
      }
    },
    {
      "cell_type": "code",
      "source": "def domainGet(email):\n    return email.split('@')[-1]\ndomainGet('user@domain.com')",
      "metadata": {
        "id": "unvEAwjk85kL",
        "trusted": true
      },
      "execution_count": 13,
      "outputs": [
        {
          "execution_count": 13,
          "output_type": "execute_result",
          "data": {
            "text/plain": "'domain.com'"
          },
          "metadata": {}
        }
      ]
    },
    {
      "cell_type": "code",
      "source": "",
      "metadata": {
        "id": "Gb9dspLC85kL",
        "outputId": "4216116b-da08-45a2-9545-d6b13bcefaeb",
        "jupyter": {
          "source_hidden": true
        }
      },
      "execution_count": null,
      "outputs": [
        {
          "execution_count": 26,
          "output_type": "execute_result",
          "data": {
            "text/plain": [
              "'domain.com'"
            ]
          },
          "metadata": {
            "tags": []
          }
        }
      ]
    },
    {
      "cell_type": "markdown",
      "source": "** Create a basic function that returns True if the word 'dog' is contained in the input string. Don't worry about edge cases like a punctuation being attached to the word dog, but do account for capitalization. **",
      "metadata": {
        "id": "gYydb-y085kM"
      }
    },
    {
      "cell_type": "code",
      "source": "def findDog(st):\n    return 'dog' in st.lower().split()\nfindDog('Is there a dog here?')",
      "metadata": {
        "id": "Q4ldLGV785kM",
        "trusted": true
      },
      "execution_count": 14,
      "outputs": [
        {
          "execution_count": 14,
          "output_type": "execute_result",
          "data": {
            "text/plain": "True"
          },
          "metadata": {}
        }
      ]
    },
    {
      "cell_type": "code",
      "source": "",
      "metadata": {
        "id": "EqH6b7yv85kN",
        "outputId": "e7909af1-8df1-4534-fc8c-27b03d7369e5",
        "jupyter": {
          "source_hidden": true
        }
      },
      "execution_count": null,
      "outputs": [
        {
          "execution_count": 28,
          "output_type": "execute_result",
          "data": {
            "text/plain": [
              "True"
            ]
          },
          "metadata": {
            "tags": []
          }
        }
      ]
    },
    {
      "cell_type": "markdown",
      "source": "** Create a function that counts the number of times the word \"dog\" occurs in a string. Again ignore edge cases. **",
      "metadata": {
        "id": "AyHQFALC85kO"
      }
    },
    {
      "cell_type": "code",
      "source": "def countDog(st):\n    count = 0\n    for word in st.lower().split():\n        if word == 'dog':\n            count += 1\n    return count\ncountDog('This dog runs faster than the other dog dude!')",
      "metadata": {
        "id": "6hdc169585kO",
        "trusted": true
      },
      "execution_count": 15,
      "outputs": [
        {
          "execution_count": 15,
          "output_type": "execute_result",
          "data": {
            "text/plain": "2"
          },
          "metadata": {}
        }
      ]
    },
    {
      "cell_type": "code",
      "source": "",
      "metadata": {
        "id": "igzsvHb385kO",
        "outputId": "0602a2b5-0b18-48d8-e2d4-fe644cbccf8a",
        "collapsed": true,
        "jupyter": {
          "outputs_hidden": true
        }
      },
      "execution_count": null,
      "outputs": [
        {
          "execution_count": 31,
          "output_type": "execute_result",
          "data": {
            "text/plain": [
              "2"
            ]
          },
          "metadata": {
            "tags": []
          }
        }
      ]
    },
    {
      "cell_type": "markdown",
      "source": "### Problem\n**You are driving a little too fast, and a police officer stops you. Write a function\n  to return one of 3 possible results: \"No ticket\", \"Small ticket\", or \"Big Ticket\". \n  If your speed is 60 or less, the result is \"No Ticket\". If speed is between 61 \n  and 80 inclusive, the result is \"Small Ticket\". If speed is 81 or more, the result is \"Big    Ticket\". Unless it is your birthday (encoded as a boolean value in the parameters of the function) -- on your birthday, your speed can be 5 higher in all \n  cases. **",
      "metadata": {
        "id": "3n7jJt4k85kP"
      }
    },
    {
      "cell_type": "code",
      "source": "def caught_speeding(speed, is_birthday):\n    \n    if is_birthday:\n        speeding = speed - 5\n    else:\n        speeding = speed\n    \n    if speeding > 80:\n        return 'Big Ticket'\n    elif speeding > 60:\n        return 'Small Ticket'\n    else:\n        return 'No Ticket'\ncaught_speeding(81,True)",
      "metadata": {
        "id": "nvXMkvWk85kQ",
        "trusted": true
      },
      "execution_count": 19,
      "outputs": [
        {
          "execution_count": 19,
          "output_type": "execute_result",
          "data": {
            "text/plain": "'Small Ticket'"
          },
          "metadata": {}
        }
      ]
    },
    {
      "cell_type": "code",
      "source": "caught_speeding(81,True)",
      "metadata": {
        "id": "p1AGJ7DM85kR",
        "outputId": "ca80629f-5949-4926-8d27-1b61576669ac",
        "collapsed": true,
        "jupyter": {
          "outputs_hidden": true,
          "source_hidden": true
        },
        "trusted": true
      },
      "execution_count": 18,
      "outputs": [
        {
          "ename": "<class 'NameError'>",
          "evalue": "name 'caught_speeding' is not defined",
          "traceback": [
            "\u001b[0;31m---------------------------------------------------------------------------\u001b[0m",
            "\u001b[0;31mNameError\u001b[0m                                 Traceback (most recent call last)",
            "Cell \u001b[0;32mIn [18], line 1\u001b[0m\n\u001b[0;32m----> 1\u001b[0m caught_speeding(\u001b[38;5;241m81\u001b[39m,\u001b[38;5;28;01mTrue\u001b[39;00m)\n",
            "\u001b[0;31mNameError\u001b[0m: name 'caught_speeding' is not defined"
          ],
          "output_type": "error"
        }
      ]
    },
    {
      "cell_type": "markdown",
      "source": "Create an employee list with basic salary values(at least 5 values for 5 employees)  and using a for loop retreive each employee salary and calculate total salary expenditure. ",
      "metadata": {
        "id": "Tie4rC7_kAOC"
      }
    },
    {
      "cell_type": "code",
      "source": "def weeklyPaid(hours_worked, wage):\n    if hours_worked > 40:\n        return 40 * wage + (hours_worked - 40) * wage * 1.5\n    else:\n        return hours_worked * wage\nhours_worked = 50\nwage = 100\n\npay = weeklyPaid(hours_worked, wage)\n\nprint(f\"Total gross pay: Rs.{pay:.2f} \")\n",
      "metadata": {
        "id": "R5-CdXSKjacN",
        "trusted": true
      },
      "execution_count": 21,
      "outputs": [
        {
          "name": "stdout",
          "text": "Total gross pay: Rs.5500.00 \n",
          "output_type": "stream"
        }
      ]
    },
    {
      "cell_type": "markdown",
      "source": "Create two dictionaries in Python:\n\nFirst one to contain fields as Empid,  Empname,  Basicpay\n\nSecond dictionary to contain fields as DeptName,  DeptId.\n\nCombine both dictionaries. ",
      "metadata": {
        "id": "-L1aiFqRkF5s"
      }
    },
    {
      "cell_type": "code",
      "source": "basic_emp={\n    \"Empid\":1,\n    \"Empname\" :\"arun\",\n    \"Basicpay\" :10000\n}\nsecond_dict={\n    \"DeptName\" : \"CS\",\n    \"DeptId\"  : 101\n}\ncombine={\n    \"Empid\": basic_emp[\"Empid\"],\n    \"Empname\": basic_emp[\"Empname\"],\n    \"Basicpay\" :basic_emp[\"Basicpay\"],\n    \"DeptName\" : second_dict[\"DeptName\"],\n    \"DeptId\":second_dict[\"DeptId\"]\n}\nprint(combine)",
      "metadata": {
        "id": "8ugVoEe0kOsk",
        "trusted": true
      },
      "execution_count": 24,
      "outputs": [
        {
          "name": "stdout",
          "text": "{'Empid': 1, 'Empname': 'arun', 'Basicpay': 10000, 'DeptName': 'CS', 'DeptId': 101}\n",
          "output_type": "stream"
        }
      ]
    },
    {
      "cell_type": "code",
      "source": "",
      "metadata": {},
      "execution_count": null,
      "outputs": []
    },
    {
      "cell_type": "code",
      "source": "",
      "metadata": {},
      "execution_count": null,
      "outputs": []
    },
    {
      "cell_type": "code",
      "source": "",
      "metadata": {},
      "execution_count": null,
      "outputs": []
    }
  ]
}